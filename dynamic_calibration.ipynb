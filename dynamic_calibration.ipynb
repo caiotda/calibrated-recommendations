{
 "cells": [
  {
   "cell_type": "code",
   "execution_count": 1,
   "id": "e5d2cfaa",
   "metadata": {},
   "outputs": [],
   "source": [
    "import pandas as pd\n",
    "import sys\n",
    "from pathlib import Path\n",
    "from calibrationUtils import preprocess_genres\n",
    "import os\n",
    "import pickle\n",
    "\n",
    "\n",
    "\n"
   ]
  },
  {
   "cell_type": "code",
   "execution_count": 2,
   "id": "887549cb",
   "metadata": {},
   "outputs": [],
   "source": [
    "path_to_add = str(Path(\"../bprMf/\").resolve())\n",
    "sys.path.append(path_to_add)"
   ]
  },
  {
   "cell_type": "code",
   "execution_count": 3,
   "id": "ff6ca503",
   "metadata": {},
   "outputs": [],
   "source": [
    "\n",
    "from evaluation import Evaluate\n",
    "\n",
    "from bpr_mf import bprMFLClickDebiasingDataloader, bprMF, bpr_loss_with_reg_with_debiased_click, bpr_train_with_debiasing\n",
    "from utils import generate_bpr_dataset_with_click_data\n",
    "\n",
    "from torch.utils.data import random_split, DataLoader\n",
    "from torch.optim import Adam\n",
    "\n",
    "from torch import device, cuda, tensor\n"
   ]
  },
  {
   "cell_type": "code",
   "execution_count": 4,
   "id": "1bf56eaf",
   "metadata": {},
   "outputs": [
    {
     "data": {
      "text/plain": [
       "device(type='cuda')"
      ]
     },
     "execution_count": 4,
     "metadata": {},
     "output_type": "execute_result"
    }
   ],
   "source": [
    "dev = device('cuda' if cuda.is_available() else 'cpu')\n",
    "dev"
   ]
  },
  {
   "cell_type": "markdown",
   "id": "3be85b4c",
   "metadata": {},
   "source": [
    "# Dynamic calibration\n",
    "\n",
    "\n",
    "In this notebook, we'll explore some ideas that model the evolution of user preferences in calibration. Namely, the work proposed by D.C da Silva et al (2025 ) - Considering Time and Feature Entropy in Calibrated Recommendations"
   ]
  },
  {
   "cell_type": "markdown",
   "id": "f66b9f90",
   "metadata": {},
   "source": [
    "## Read Data and Preprocess"
   ]
  },
  {
   "cell_type": "code",
   "execution_count": 5,
   "id": "672827f0",
   "metadata": {},
   "outputs": [],
   "source": [
    "\n",
    "movies = pd.read_csv(\"./data/ml-1m/movies.dat\", sep=\"::\", engine=\"python\", names=[\"itemID\", \"title\", \"genres\"], encoding=\"ISO-8859-1\")\n",
    "ratings = pd.read_csv(\"./data/ml-1m/ratings.dat\", sep=\"::\", engine=\"python\", names=[\"userID\", \"itemID\", \"rating\", \"timestamp\"], encoding=\"ISO-8859-1\")\n",
    "data_raw = ratings.merge(movies, on=\"itemID\")"
   ]
  },
  {
   "cell_type": "code",
   "execution_count": 6,
   "id": "472084aa",
   "metadata": {},
   "outputs": [],
   "source": [
    "\n",
    "# We make the data zero indexed to make it easier to handle indexes, specially with our\n",
    "# pytorch implementation\n",
    "zero_based_indexing_item = {v: K for K, v in enumerate(data_raw[\"itemID\"].unique())}\n",
    "zero_based_indexing_user = {v: K for K, v in enumerate(data_raw[\"userID\"].unique())}\n",
    "\n",
    "data_raw[\"itemID\"] = data_raw[\"itemID\"].map(zero_based_indexing_item)\n",
    "data_raw[\"userID\"] = data_raw[\"userID\"].map(zero_based_indexing_user)\n",
    "\n",
    "\n",
    "df = preprocess_genres(data_raw)\n",
    "df = df.rename(columns={\"userID\": \"user\", \"itemID\": \"item\"})\n",
    "df[\"click\"] = df[\"rating\"].apply(lambda r: int(r >= 4))\n",
    "\n",
    "df[\"relevant\"] = df[\"click\"]\n"
   ]
  },
  {
   "cell_type": "code",
   "execution_count": 7,
   "id": "38beba66",
   "metadata": {},
   "outputs": [
    {
     "data": {
      "text/html": [
       "<div>\n",
       "<style scoped>\n",
       "    .dataframe tbody tr th:only-of-type {\n",
       "        vertical-align: middle;\n",
       "    }\n",
       "\n",
       "    .dataframe tbody tr th {\n",
       "        vertical-align: top;\n",
       "    }\n",
       "\n",
       "    .dataframe thead th {\n",
       "        text-align: right;\n",
       "    }\n",
       "</style>\n",
       "<table border=\"1\" class=\"dataframe\">\n",
       "  <thead>\n",
       "    <tr style=\"text-align: right;\">\n",
       "      <th></th>\n",
       "      <th>user</th>\n",
       "      <th>item</th>\n",
       "      <th>rating</th>\n",
       "      <th>timestamp</th>\n",
       "      <th>title</th>\n",
       "      <th>genres</th>\n",
       "      <th>click</th>\n",
       "      <th>relevant</th>\n",
       "    </tr>\n",
       "  </thead>\n",
       "  <tbody>\n",
       "    <tr>\n",
       "      <th>0</th>\n",
       "      <td>0</td>\n",
       "      <td>0</td>\n",
       "      <td>5</td>\n",
       "      <td>978300760</td>\n",
       "      <td>One Flew Over the Cuckoo's Nest (1975)</td>\n",
       "      <td>[Drama]</td>\n",
       "      <td>1</td>\n",
       "      <td>1</td>\n",
       "    </tr>\n",
       "    <tr>\n",
       "      <th>1</th>\n",
       "      <td>0</td>\n",
       "      <td>1</td>\n",
       "      <td>3</td>\n",
       "      <td>978302109</td>\n",
       "      <td>James and the Giant Peach (1996)</td>\n",
       "      <td>[Animation, Children's, Musical]</td>\n",
       "      <td>0</td>\n",
       "      <td>0</td>\n",
       "    </tr>\n",
       "    <tr>\n",
       "      <th>2</th>\n",
       "      <td>0</td>\n",
       "      <td>2</td>\n",
       "      <td>3</td>\n",
       "      <td>978301968</td>\n",
       "      <td>My Fair Lady (1964)</td>\n",
       "      <td>[Musical, Romance]</td>\n",
       "      <td>0</td>\n",
       "      <td>0</td>\n",
       "    </tr>\n",
       "    <tr>\n",
       "      <th>3</th>\n",
       "      <td>0</td>\n",
       "      <td>3</td>\n",
       "      <td>4</td>\n",
       "      <td>978300275</td>\n",
       "      <td>Erin Brockovich (2000)</td>\n",
       "      <td>[Drama]</td>\n",
       "      <td>1</td>\n",
       "      <td>1</td>\n",
       "    </tr>\n",
       "    <tr>\n",
       "      <th>4</th>\n",
       "      <td>0</td>\n",
       "      <td>4</td>\n",
       "      <td>5</td>\n",
       "      <td>978824291</td>\n",
       "      <td>Bug's Life, A (1998)</td>\n",
       "      <td>[Animation, Children's, Comedy]</td>\n",
       "      <td>1</td>\n",
       "      <td>1</td>\n",
       "    </tr>\n",
       "    <tr>\n",
       "      <th>...</th>\n",
       "      <td>...</td>\n",
       "      <td>...</td>\n",
       "      <td>...</td>\n",
       "      <td>...</td>\n",
       "      <td>...</td>\n",
       "      <td>...</td>\n",
       "      <td>...</td>\n",
       "      <td>...</td>\n",
       "    </tr>\n",
       "    <tr>\n",
       "      <th>1000204</th>\n",
       "      <td>6039</td>\n",
       "      <td>772</td>\n",
       "      <td>1</td>\n",
       "      <td>956716541</td>\n",
       "      <td>Weekend at Bernie's (1989)</td>\n",
       "      <td>[Comedy]</td>\n",
       "      <td>0</td>\n",
       "      <td>0</td>\n",
       "    </tr>\n",
       "    <tr>\n",
       "      <th>1000205</th>\n",
       "      <td>6039</td>\n",
       "      <td>1106</td>\n",
       "      <td>5</td>\n",
       "      <td>956704887</td>\n",
       "      <td>Crying Game, The (1992)</td>\n",
       "      <td>[Drama, Romance, War]</td>\n",
       "      <td>1</td>\n",
       "      <td>1</td>\n",
       "    </tr>\n",
       "    <tr>\n",
       "      <th>1000206</th>\n",
       "      <td>6039</td>\n",
       "      <td>365</td>\n",
       "      <td>5</td>\n",
       "      <td>956704746</td>\n",
       "      <td>Welcome to the Dollhouse (1995)</td>\n",
       "      <td>[Comedy, Drama]</td>\n",
       "      <td>1</td>\n",
       "      <td>1</td>\n",
       "    </tr>\n",
       "    <tr>\n",
       "      <th>1000207</th>\n",
       "      <td>6039</td>\n",
       "      <td>152</td>\n",
       "      <td>4</td>\n",
       "      <td>956715648</td>\n",
       "      <td>Sophie's Choice (1982)</td>\n",
       "      <td>[Drama]</td>\n",
       "      <td>1</td>\n",
       "      <td>1</td>\n",
       "    </tr>\n",
       "    <tr>\n",
       "      <th>1000208</th>\n",
       "      <td>6039</td>\n",
       "      <td>26</td>\n",
       "      <td>4</td>\n",
       "      <td>956715569</td>\n",
       "      <td>E.T. the Extra-Terrestrial (1982)</td>\n",
       "      <td>[Children's, Drama, Fantasy, Sci-Fi]</td>\n",
       "      <td>1</td>\n",
       "      <td>1</td>\n",
       "    </tr>\n",
       "  </tbody>\n",
       "</table>\n",
       "<p>1000209 rows × 8 columns</p>\n",
       "</div>"
      ],
      "text/plain": [
       "         user  item  rating  timestamp  \\\n",
       "0           0     0       5  978300760   \n",
       "1           0     1       3  978302109   \n",
       "2           0     2       3  978301968   \n",
       "3           0     3       4  978300275   \n",
       "4           0     4       5  978824291   \n",
       "...       ...   ...     ...        ...   \n",
       "1000204  6039   772       1  956716541   \n",
       "1000205  6039  1106       5  956704887   \n",
       "1000206  6039   365       5  956704746   \n",
       "1000207  6039   152       4  956715648   \n",
       "1000208  6039    26       4  956715569   \n",
       "\n",
       "                                          title  \\\n",
       "0        One Flew Over the Cuckoo's Nest (1975)   \n",
       "1              James and the Giant Peach (1996)   \n",
       "2                           My Fair Lady (1964)   \n",
       "3                        Erin Brockovich (2000)   \n",
       "4                          Bug's Life, A (1998)   \n",
       "...                                         ...   \n",
       "1000204              Weekend at Bernie's (1989)   \n",
       "1000205                 Crying Game, The (1992)   \n",
       "1000206         Welcome to the Dollhouse (1995)   \n",
       "1000207                  Sophie's Choice (1982)   \n",
       "1000208       E.T. the Extra-Terrestrial (1982)   \n",
       "\n",
       "                                       genres  click  relevant  \n",
       "0                                     [Drama]      1         1  \n",
       "1            [Animation, Children's, Musical]      0         0  \n",
       "2                          [Musical, Romance]      0         0  \n",
       "3                                     [Drama]      1         1  \n",
       "4             [Animation, Children's, Comedy]      1         1  \n",
       "...                                       ...    ...       ...  \n",
       "1000204                              [Comedy]      0         0  \n",
       "1000205                 [Drama, Romance, War]      1         1  \n",
       "1000206                       [Comedy, Drama]      1         1  \n",
       "1000207                               [Drama]      1         1  \n",
       "1000208  [Children's, Drama, Fantasy, Sci-Fi]      1         1  \n",
       "\n",
       "[1000209 rows x 8 columns]"
      ]
     },
     "execution_count": 7,
     "metadata": {},
     "output_type": "execute_result"
    }
   ],
   "source": [
    "df"
   ]
  },
  {
   "cell_type": "code",
   "execution_count": 8,
   "id": "5deec340",
   "metadata": {},
   "outputs": [],
   "source": [
    "\n",
    "\n",
    "bpr_df= generate_bpr_dataset_with_click_data(df)"
   ]
  },
  {
   "cell_type": "markdown",
   "id": "6a4f92c8",
   "metadata": {},
   "source": [
    "## Training a model"
   ]
  },
  {
   "cell_type": "code",
   "execution_count": 9,
   "id": "c750546f",
   "metadata": {},
   "outputs": [],
   "source": [
    "data_bpr = bprMFLClickDebiasingDataloader(bpr_df)\n",
    "\n",
    "\n",
    "# Calculate split lengths\n",
    "train_len = int(0.7 * len(data_bpr))\n",
    "test_len = len(data_bpr) - train_len\n",
    "\n",
    "\n",
    "train_data, test_data = random_split(data_bpr, [train_len, test_len])\n",
    "\n",
    "\n",
    "\n",
    "dataloader_bpr_train = DataLoader(train_data, batch_size=256, shuffle=True)\n",
    "dataloader_bpr_test = DataLoader(test_data, batch_size=256, shuffle=True)\n",
    "\n",
    "\n",
    "n_users = bpr_df.user.max() + 1\n",
    "n_items = bpr_df.pos_item.max() + 1\n"
   ]
  },
  {
   "cell_type": "code",
   "execution_count": 10,
   "id": "0294081d",
   "metadata": {},
   "outputs": [
    {
     "data": {
      "text/html": [
       "<div>\n",
       "<style scoped>\n",
       "    .dataframe tbody tr th:only-of-type {\n",
       "        vertical-align: middle;\n",
       "    }\n",
       "\n",
       "    .dataframe tbody tr th {\n",
       "        vertical-align: top;\n",
       "    }\n",
       "\n",
       "    .dataframe thead th {\n",
       "        text-align: right;\n",
       "    }\n",
       "</style>\n",
       "<table border=\"1\" class=\"dataframe\">\n",
       "  <thead>\n",
       "    <tr style=\"text-align: right;\">\n",
       "      <th></th>\n",
       "      <th>user</th>\n",
       "      <th>pos_item</th>\n",
       "      <th>click_position</th>\n",
       "      <th>neg_item</th>\n",
       "    </tr>\n",
       "  </thead>\n",
       "  <tbody>\n",
       "    <tr>\n",
       "      <th>0</th>\n",
       "      <td>0</td>\n",
       "      <td>0</td>\n",
       "      <td>1</td>\n",
       "      <td>969</td>\n",
       "    </tr>\n",
       "    <tr>\n",
       "      <th>1</th>\n",
       "      <td>0</td>\n",
       "      <td>0</td>\n",
       "      <td>1</td>\n",
       "      <td>2733</td>\n",
       "    </tr>\n",
       "    <tr>\n",
       "      <th>2</th>\n",
       "      <td>0</td>\n",
       "      <td>0</td>\n",
       "      <td>1</td>\n",
       "      <td>418</td>\n",
       "    </tr>\n",
       "    <tr>\n",
       "      <th>3</th>\n",
       "      <td>0</td>\n",
       "      <td>1</td>\n",
       "      <td>0</td>\n",
       "      <td>2376</td>\n",
       "    </tr>\n",
       "    <tr>\n",
       "      <th>4</th>\n",
       "      <td>0</td>\n",
       "      <td>1</td>\n",
       "      <td>0</td>\n",
       "      <td>1890</td>\n",
       "    </tr>\n",
       "    <tr>\n",
       "      <th>...</th>\n",
       "      <td>...</td>\n",
       "      <td>...</td>\n",
       "      <td>...</td>\n",
       "      <td>...</td>\n",
       "    </tr>\n",
       "    <tr>\n",
       "      <th>3000622</th>\n",
       "      <td>6039</td>\n",
       "      <td>152</td>\n",
       "      <td>1</td>\n",
       "      <td>435</td>\n",
       "    </tr>\n",
       "    <tr>\n",
       "      <th>3000623</th>\n",
       "      <td>6039</td>\n",
       "      <td>152</td>\n",
       "      <td>1</td>\n",
       "      <td>2366</td>\n",
       "    </tr>\n",
       "    <tr>\n",
       "      <th>3000624</th>\n",
       "      <td>6039</td>\n",
       "      <td>26</td>\n",
       "      <td>1</td>\n",
       "      <td>2704</td>\n",
       "    </tr>\n",
       "    <tr>\n",
       "      <th>3000625</th>\n",
       "      <td>6039</td>\n",
       "      <td>26</td>\n",
       "      <td>1</td>\n",
       "      <td>3365</td>\n",
       "    </tr>\n",
       "    <tr>\n",
       "      <th>3000626</th>\n",
       "      <td>6039</td>\n",
       "      <td>26</td>\n",
       "      <td>1</td>\n",
       "      <td>2806</td>\n",
       "    </tr>\n",
       "  </tbody>\n",
       "</table>\n",
       "<p>3000627 rows × 4 columns</p>\n",
       "</div>"
      ],
      "text/plain": [
       "         user  pos_item  click_position  neg_item\n",
       "0           0         0               1       969\n",
       "1           0         0               1      2733\n",
       "2           0         0               1       418\n",
       "3           0         1               0      2376\n",
       "4           0         1               0      1890\n",
       "...       ...       ...             ...       ...\n",
       "3000622  6039       152               1       435\n",
       "3000623  6039       152               1      2366\n",
       "3000624  6039        26               1      2704\n",
       "3000625  6039        26               1      3365\n",
       "3000626  6039        26               1      2806\n",
       "\n",
       "[3000627 rows x 4 columns]"
      ]
     },
     "execution_count": 10,
     "metadata": {},
     "output_type": "execute_result"
    }
   ],
   "source": [
    "bpr_df"
   ]
  },
  {
   "cell_type": "code",
   "execution_count": 11,
   "id": "5687e9af",
   "metadata": {},
   "outputs": [],
   "source": [
    "\n",
    "model_artifact_poath = \"artifacts/models/bpr_mf_click_debias_movielens_1m.pkl\"\n",
    "if os.path.exists(model_artifact_poath):\n",
    "    with open(model_artifact_poath, \"rb\") as f:\n",
    "        model = pickle.load(f)\n",
    "else:\n",
    "    model = bprMF(num_users=n_users, num_items=n_items, factors=30).to(dev)\n",
    "    evaluator = Evaluate(model, test_data, df, k=20)\n",
    "    map_k_before = evaluator.MAP_at_k()\n",
    "    optimizer = Adam(model.parameters(), lr=1e-3)\n",
    "    train_loss, test_loss = bpr_train_with_debiasing(\n",
    "        dataloader_bpr_train, dataloader_bpr_test, model,\n",
    "        bpr_loss_with_reg_with_debiased_click, optimizer, reg_lambda=5e-4, debug=True\n",
    "    )\n",
    "    with open(model_artifact_poath, \"wb\") as f:\n",
    "        pickle.dump(model, f)\n",
    "\n"
   ]
  },
  {
   "cell_type": "code",
   "execution_count": 12,
   "id": "96adefdc",
   "metadata": {},
   "outputs": [
    {
     "name": "stderr",
     "output_type": "stream",
     "text": [
      "/home/caio/dev/bprMf/bpr_mf.py:71: UserWarning: To copy construct from a tensor, it is recommended to use sourceTensor.clone().detach() or sourceTensor.clone().detach().requires_grad_(True), rather than torch.tensor(sourceTensor).\n",
      "  output = self.forward(torch.tensor(user, device=device), items_list)\n",
      "/home/caio/dev/bprMf/bpr_mf.py:71: UserWarning: To copy construct from a tensor, it is recommended to use sourceTensor.clone().detach() or sourceTensor.clone().detach().requires_grad_(True), rather than torch.tensor(sourceTensor).\n",
      "  output = self.forward(torch.tensor(user, device=device), items_list)\n",
      "/home/caio/dev/bprMf/bpr_mf.py:71: UserWarning: To copy construct from a tensor, it is recommended to use sourceTensor.clone().detach() or sourceTensor.clone().detach().requires_grad_(True), rather than torch.tensor(sourceTensor).\n",
      "  output = self.forward(torch.tensor(user, device=device), items_list)\n",
      "/home/caio/dev/bprMf/bpr_mf.py:71: UserWarning: To copy construct from a tensor, it is recommended to use sourceTensor.clone().detach() or sourceTensor.clone().detach().requires_grad_(True), rather than torch.tensor(sourceTensor).\n",
      "  output = self.forward(torch.tensor(user, device=device), items_list)\n",
      "/home/caio/dev/bprMf/bpr_mf.py:71: UserWarning: To copy construct from a tensor, it is recommended to use sourceTensor.clone().detach() or sourceTensor.clone().detach().requires_grad_(True), rather than torch.tensor(sourceTensor).\n",
      "  output = self.forward(torch.tensor(user, device=device), items_list)\n"
     ]
    }
   ],
   "source": [
    "evaluator = Evaluate(model, test_data, df, k=20)"
   ]
  },
  {
   "cell_type": "code",
   "execution_count": 13,
   "id": "4fe47e77",
   "metadata": {},
   "outputs": [],
   "source": [
    "map_k_after = evaluator.MAP_at_k()"
   ]
  },
  {
   "cell_type": "code",
   "execution_count": 14,
   "id": "f0ea2e2a",
   "metadata": {},
   "outputs": [
    {
     "data": {
      "text/plain": [
       "0.10673276935978548"
      ]
     },
     "execution_count": 14,
     "metadata": {},
     "output_type": "execute_result"
    }
   ],
   "source": [
    "map_k_after"
   ]
  },
  {
   "cell_type": "code",
   "execution_count": 15,
   "id": "ca372203",
   "metadata": {},
   "outputs": [],
   "source": [
    "rec_df = pd.DataFrame({'user': df[\"user\"].unique()})\n",
    "candidates = df[\"item\"].unique()"
   ]
  },
  {
   "cell_type": "code",
   "execution_count": 16,
   "id": "af5abf4f",
   "metadata": {},
   "outputs": [],
   "source": [
    "from torch import tensor\n",
    "\n",
    "def get_top_k_recommendations_for_user(row, candidates, model, k=100):\n",
    "    candidates_t = tensor(candidates, device=dev)\n",
    "    return model.predict(\n",
    "        user=tensor(data=row[\"user\"], device=dev),\n",
    "        candidates=candidates_t,\n",
    "        k=k\n",
    "    )\n",
    "\n"
   ]
  },
  {
   "cell_type": "code",
   "execution_count": 17,
   "id": "2ab298a7",
   "metadata": {},
   "outputs": [],
   "source": [
    "users = pd.DataFrame({'user': df['user'].unique()})"
   ]
  },
  {
   "cell_type": "code",
   "execution_count": 18,
   "id": "9dbae529",
   "metadata": {},
   "outputs": [
    {
     "name": "stderr",
     "output_type": "stream",
     "text": [
      "/home/caio/dev/bprMf/bpr_mf.py:71: UserWarning: To copy construct from a tensor, it is recommended to use sourceTensor.clone().detach() or sourceTensor.clone().detach().requires_grad_(True), rather than torch.tensor(sourceTensor).\n",
      "  output = self.forward(torch.tensor(user, device=device), items_list)\n"
     ]
    }
   ],
   "source": [
    "rec_df = users.copy()\n",
    "rec_df[[\"top_k_rec_id\", \"top_k_rec_score\"]] = pd.DataFrame(\n",
    "    rec_df.apply(lambda row: pd.Series(get_top_k_recommendations_for_user(row, candidates, model)), axis=1)\n",
    ")\n",
    "rec_df = rec_df.explode([\"top_k_rec_id\", \"top_k_rec_score\"])"
   ]
  },
  {
   "cell_type": "code",
   "execution_count": 19,
   "id": "1b3701c8",
   "metadata": {},
   "outputs": [
    {
     "data": {
      "text/html": [
       "<div>\n",
       "<style scoped>\n",
       "    .dataframe tbody tr th:only-of-type {\n",
       "        vertical-align: middle;\n",
       "    }\n",
       "\n",
       "    .dataframe tbody tr th {\n",
       "        vertical-align: top;\n",
       "    }\n",
       "\n",
       "    .dataframe thead th {\n",
       "        text-align: right;\n",
       "    }\n",
       "</style>\n",
       "<table border=\"1\" class=\"dataframe\">\n",
       "  <thead>\n",
       "    <tr style=\"text-align: right;\">\n",
       "      <th></th>\n",
       "      <th>user</th>\n",
       "      <th>top_k_rec_id</th>\n",
       "      <th>top_k_rec_score</th>\n",
       "    </tr>\n",
       "  </thead>\n",
       "  <tbody>\n",
       "    <tr>\n",
       "      <th>0</th>\n",
       "      <td>0</td>\n",
       "      <td>167</td>\n",
       "      <td>9.083803</td>\n",
       "    </tr>\n",
       "    <tr>\n",
       "      <th>0</th>\n",
       "      <td>0</td>\n",
       "      <td>390</td>\n",
       "      <td>8.723235</td>\n",
       "    </tr>\n",
       "    <tr>\n",
       "      <th>0</th>\n",
       "      <td>0</td>\n",
       "      <td>23</td>\n",
       "      <td>8.68331</td>\n",
       "    </tr>\n",
       "    <tr>\n",
       "      <th>0</th>\n",
       "      <td>0</td>\n",
       "      <td>104</td>\n",
       "      <td>8.268551</td>\n",
       "    </tr>\n",
       "    <tr>\n",
       "      <th>0</th>\n",
       "      <td>0</td>\n",
       "      <td>9</td>\n",
       "      <td>7.843223</td>\n",
       "    </tr>\n",
       "    <tr>\n",
       "      <th>...</th>\n",
       "      <td>...</td>\n",
       "      <td>...</td>\n",
       "      <td>...</td>\n",
       "    </tr>\n",
       "    <tr>\n",
       "      <th>6039</th>\n",
       "      <td>6039</td>\n",
       "      <td>357</td>\n",
       "      <td>4.970627</td>\n",
       "    </tr>\n",
       "    <tr>\n",
       "      <th>6039</th>\n",
       "      <td>6039</td>\n",
       "      <td>1618</td>\n",
       "      <td>4.963928</td>\n",
       "    </tr>\n",
       "    <tr>\n",
       "      <th>6039</th>\n",
       "      <td>6039</td>\n",
       "      <td>201</td>\n",
       "      <td>4.954138</td>\n",
       "    </tr>\n",
       "    <tr>\n",
       "      <th>6039</th>\n",
       "      <td>6039</td>\n",
       "      <td>509</td>\n",
       "      <td>4.949831</td>\n",
       "    </tr>\n",
       "    <tr>\n",
       "      <th>6039</th>\n",
       "      <td>6039</td>\n",
       "      <td>1457</td>\n",
       "      <td>4.936849</td>\n",
       "    </tr>\n",
       "  </tbody>\n",
       "</table>\n",
       "<p>604000 rows × 3 columns</p>\n",
       "</div>"
      ],
      "text/plain": [
       "      user top_k_rec_id top_k_rec_score\n",
       "0        0          167        9.083803\n",
       "0        0          390        8.723235\n",
       "0        0           23         8.68331\n",
       "0        0          104        8.268551\n",
       "0        0            9        7.843223\n",
       "...    ...          ...             ...\n",
       "6039  6039          357        4.970627\n",
       "6039  6039         1618        4.963928\n",
       "6039  6039          201        4.954138\n",
       "6039  6039          509        4.949831\n",
       "6039  6039         1457        4.936849\n",
       "\n",
       "[604000 rows x 3 columns]"
      ]
     },
     "execution_count": 19,
     "metadata": {},
     "output_type": "execute_result"
    }
   ],
   "source": [
    "rec_df"
   ]
  },
  {
   "cell_type": "markdown",
   "id": "d5822e6a",
   "metadata": {},
   "source": [
    "## Calibrating"
   ]
  },
  {
   "cell_type": "code",
   "execution_count": 20,
   "id": "73ff05d6",
   "metadata": {},
   "outputs": [],
   "source": [
    "from calibration import Calibration\n",
    "from calibrationIO import instantiate_calibrator"
   ]
  },
  {
   "cell_type": "code",
   "execution_count": 21,
   "id": "f736e85e",
   "metadata": {},
   "outputs": [],
   "source": [
    "READ_LOCALLY = False"
   ]
  },
  {
   "cell_type": "code",
   "execution_count": 22,
   "id": "2d44dbbd",
   "metadata": {},
   "outputs": [
    {
     "name": "stderr",
     "output_type": "stream",
     "text": [
      "100%|██████████| 6040/6040 [24:00<00:00,  4.19it/s]\n"
     ]
    }
   ],
   "source": [
    "calibrator_linear_time = instantiate_calibrator(df, 'linear_time', 'steck', rec_df, READ_LOCALLY=READ_LOCALLY, _lambda=0.1)"
   ]
  },
  {
   "cell_type": "code",
   "execution_count": 23,
   "id": "0fa7fc48",
   "metadata": {},
   "outputs": [
    {
     "name": "stderr",
     "output_type": "stream",
     "text": [
      "100%|██████████| 6040/6040 [00:19<00:00, 314.66it/s]\n"
     ]
    },
    {
     "data": {
      "text/plain": [
       "0.6032388332284145"
      ]
     },
     "execution_count": 23,
     "metadata": {},
     "output_type": "execute_result"
    }
   ],
   "source": [
    "calibrator_linear_time._mace()"
   ]
  },
  {
   "cell_type": "code",
   "execution_count": null,
   "id": "a47417ef",
   "metadata": {},
   "outputs": [],
   "source": [
    "calibrator_linear_time = instantiate_calibrator(df, 'linear_time', 'steck', rec_df, READ_LOCALLY=READ_LOCALLY)"
   ]
  },
  {
   "cell_type": "code",
   "execution_count": null,
   "id": "85995d26",
   "metadata": {},
   "outputs": [
    {
     "name": "stderr",
     "output_type": "stream",
     "text": [
      "100%|██████████| 6040/6040 [00:19<00:00, 303.26it/s]\n"
     ]
    },
    {
     "data": {
      "text/plain": [
       "0.26077297049877646"
      ]
     },
     "execution_count": 22,
     "metadata": {},
     "output_type": "execute_result"
    }
   ],
   "source": [
    "calibrator_linear_time._mace()"
   ]
  },
  {
   "cell_type": "code",
   "execution_count": null,
   "id": "06a82814",
   "metadata": {},
   "outputs": [
    {
     "name": "stderr",
     "output_type": "stream",
     "text": [
      "100%|██████████| 6040/6040 [00:18<00:00, 318.32it/s]\n"
     ]
    },
    {
     "data": {
      "text/plain": [
       "0.013189115790694199"
      ]
     },
     "execution_count": 19,
     "metadata": {},
     "output_type": "execute_result"
    }
   ],
   "source": [
    "calibrator_linear_time.mace()"
   ]
  },
  {
   "cell_type": "markdown",
   "id": "e0387a6e",
   "metadata": {},
   "source": [
    "## GLEB Based calibration\n",
    "\n",
    "\n",
    "GLEB (Global Local Entropy Based) Calibration is a breakthrough approach proposed by D.C et Al (2025). It benefits items with a mixture of genres instead of penalizing them, which is something that Stecks method does indirectly. This approach works by calibrating using the proportion of genres in the users history as well as the proportion of genres in each item. "
   ]
  },
  {
   "cell_type": "code",
   "execution_count": 20,
   "id": "4254561a",
   "metadata": {},
   "outputs": [
    {
     "name": "stderr",
     "output_type": "stream",
     "text": [
      "100%|██████████| 6040/6040 [24:03<00:00,  4.19it/s]\n"
     ]
    }
   ],
   "source": [
    "calibrator_linear_time_gleb = instantiate_calibrator(df, 'linear_time', 'gleb', rec_df)"
   ]
  },
  {
   "cell_type": "code",
   "execution_count": 21,
   "id": "504da91f",
   "metadata": {},
   "outputs": [
    {
     "name": "stderr",
     "output_type": "stream",
     "text": [
      "100%|██████████| 6040/6040 [00:18<00:00, 330.54it/s]\n"
     ]
    },
    {
     "data": {
      "text/plain": [
       "0.011589026786283185"
      ]
     },
     "execution_count": 21,
     "metadata": {},
     "output_type": "execute_result"
    }
   ],
   "source": [
    "calibrator_linear_time_gleb.mace()"
   ]
  }
 ],
 "metadata": {
  "kernelspec": {
   "display_name": ".dynamicTaste",
   "language": "python",
   "name": "python3"
  },
  "language_info": {
   "codemirror_mode": {
    "name": "ipython",
    "version": 3
   },
   "file_extension": ".py",
   "mimetype": "text/x-python",
   "name": "python",
   "nbconvert_exporter": "python",
   "pygments_lexer": "ipython3",
   "version": "3.12.3"
  }
 },
 "nbformat": 4,
 "nbformat_minor": 5
}
