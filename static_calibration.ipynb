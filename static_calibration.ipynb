{
 "cells": [
  {
   "cell_type": "code",
   "execution_count": 1,
   "metadata": {},
   "outputs": [],
   "source": [
    "import pandas as pd\n",
    "import sys\n",
    "import os\n",
    "import pickle\n",
    "\n",
    "from pathlib import Path\n",
    "from calibrationUtils import preprocess_genres\n",
    "\n",
    "# Add the relative path to sys.path\n",
    "sys.path.append(str(Path(\"../bpr-mf\").resolve()))\n",
    "from evaluation import Evaluate\n",
    "\n",
    "from bpr_mf import bprMFDataloader, bprMF, bpr_loss_with_reg, bpr_train\n",
    "from utils import generate_bpr_dataset\n",
    "\n",
    "from torch.utils.data import random_split, DataLoader\n",
    "from torch.optim import Adam\n"
   ]
  },
  {
   "cell_type": "markdown",
   "metadata": {},
   "source": [
    "## Read data and preprocess"
   ]
  },
  {
   "cell_type": "code",
   "execution_count": 2,
   "metadata": {},
   "outputs": [],
   "source": [
    "\n",
    "movies = pd.read_csv(\"./data/ml-1m/movies.dat\", sep=\"::\", engine=\"python\", names=[\"itemID\", \"title\", \"genres\"], encoding=\"ISO-8859-1\")"
   ]
  },
  {
   "cell_type": "code",
   "execution_count": 3,
   "metadata": {},
   "outputs": [],
   "source": [
    "ratings = pd.read_csv(\"./data/ml-1m/ratings.dat\", sep=\"::\", engine=\"python\", names=[\"userID\", \"itemID\", \"rating\", \"timestamp\"], encoding=\"ISO-8859-1\")"
   ]
  },
  {
   "cell_type": "markdown",
   "metadata": {},
   "source": [
    "### Standardizing data\n",
    "\n",
    "1. Standardize IDs to be zero indexed\n",
    "2. Preprocess genres text\n",
    "3. Merge datasets\n",
    "4. Make genres a vector"
   ]
  },
  {
   "cell_type": "code",
   "execution_count": 4,
   "metadata": {},
   "outputs": [],
   "source": [
    "data_raw = ratings.merge(movies, on=\"itemID\")"
   ]
  },
  {
   "cell_type": "code",
   "execution_count": 5,
   "metadata": {},
   "outputs": [],
   "source": [
    "\n",
    "# We make the data zero indexed to make it easier to handle indexes, specially with our\n",
    "# pytorch implementation\n",
    "zero_based_indexing_item = {v: K for K, v in enumerate(data_raw[\"itemID\"].unique())}\n",
    "zero_based_indexing_user = {v: K for K, v in enumerate(data_raw[\"userID\"].unique())}\n",
    "\n",
    "data_raw[\"itemID\"] = data_raw[\"itemID\"].map(zero_based_indexing_item)\n",
    "data_raw[\"userID\"] = data_raw[\"userID\"].map(zero_based_indexing_user)\n",
    "\n",
    "\n",
    "df = preprocess_genres(data_raw)\n",
    "df = df.rename(columns={\"userID\": \"user\", \"itemID\": \"item\"})\n",
    "df[\"relevant\"] = df[\"rating\"].apply(lambda r: int(r >= 4))\n"
   ]
  },
  {
   "cell_type": "code",
   "execution_count": 6,
   "metadata": {},
   "outputs": [
    {
     "data": {
      "text/html": [
       "<div>\n",
       "<style scoped>\n",
       "    .dataframe tbody tr th:only-of-type {\n",
       "        vertical-align: middle;\n",
       "    }\n",
       "\n",
       "    .dataframe tbody tr th {\n",
       "        vertical-align: top;\n",
       "    }\n",
       "\n",
       "    .dataframe thead th {\n",
       "        text-align: right;\n",
       "    }\n",
       "</style>\n",
       "<table border=\"1\" class=\"dataframe\">\n",
       "  <thead>\n",
       "    <tr style=\"text-align: right;\">\n",
       "      <th></th>\n",
       "      <th>user</th>\n",
       "      <th>item</th>\n",
       "      <th>rating</th>\n",
       "      <th>timestamp</th>\n",
       "      <th>title</th>\n",
       "      <th>genres</th>\n",
       "      <th>relevant</th>\n",
       "    </tr>\n",
       "  </thead>\n",
       "  <tbody>\n",
       "    <tr>\n",
       "      <th>0</th>\n",
       "      <td>0</td>\n",
       "      <td>0</td>\n",
       "      <td>5</td>\n",
       "      <td>978300760</td>\n",
       "      <td>One Flew Over the Cuckoo's Nest (1975)</td>\n",
       "      <td>[Drama]</td>\n",
       "      <td>1</td>\n",
       "    </tr>\n",
       "    <tr>\n",
       "      <th>1</th>\n",
       "      <td>0</td>\n",
       "      <td>1</td>\n",
       "      <td>3</td>\n",
       "      <td>978302109</td>\n",
       "      <td>James and the Giant Peach (1996)</td>\n",
       "      <td>[Animation, Children's, Musical]</td>\n",
       "      <td>0</td>\n",
       "    </tr>\n",
       "    <tr>\n",
       "      <th>2</th>\n",
       "      <td>0</td>\n",
       "      <td>2</td>\n",
       "      <td>3</td>\n",
       "      <td>978301968</td>\n",
       "      <td>My Fair Lady (1964)</td>\n",
       "      <td>[Musical, Romance]</td>\n",
       "      <td>0</td>\n",
       "    </tr>\n",
       "    <tr>\n",
       "      <th>3</th>\n",
       "      <td>0</td>\n",
       "      <td>3</td>\n",
       "      <td>4</td>\n",
       "      <td>978300275</td>\n",
       "      <td>Erin Brockovich (2000)</td>\n",
       "      <td>[Drama]</td>\n",
       "      <td>1</td>\n",
       "    </tr>\n",
       "    <tr>\n",
       "      <th>4</th>\n",
       "      <td>0</td>\n",
       "      <td>4</td>\n",
       "      <td>5</td>\n",
       "      <td>978824291</td>\n",
       "      <td>Bug's Life, A (1998)</td>\n",
       "      <td>[Animation, Children's, Comedy]</td>\n",
       "      <td>1</td>\n",
       "    </tr>\n",
       "    <tr>\n",
       "      <th>...</th>\n",
       "      <td>...</td>\n",
       "      <td>...</td>\n",
       "      <td>...</td>\n",
       "      <td>...</td>\n",
       "      <td>...</td>\n",
       "      <td>...</td>\n",
       "      <td>...</td>\n",
       "    </tr>\n",
       "    <tr>\n",
       "      <th>1000204</th>\n",
       "      <td>6039</td>\n",
       "      <td>772</td>\n",
       "      <td>1</td>\n",
       "      <td>956716541</td>\n",
       "      <td>Weekend at Bernie's (1989)</td>\n",
       "      <td>[Comedy]</td>\n",
       "      <td>0</td>\n",
       "    </tr>\n",
       "    <tr>\n",
       "      <th>1000205</th>\n",
       "      <td>6039</td>\n",
       "      <td>1106</td>\n",
       "      <td>5</td>\n",
       "      <td>956704887</td>\n",
       "      <td>Crying Game, The (1992)</td>\n",
       "      <td>[Drama, Romance, War]</td>\n",
       "      <td>1</td>\n",
       "    </tr>\n",
       "    <tr>\n",
       "      <th>1000206</th>\n",
       "      <td>6039</td>\n",
       "      <td>365</td>\n",
       "      <td>5</td>\n",
       "      <td>956704746</td>\n",
       "      <td>Welcome to the Dollhouse (1995)</td>\n",
       "      <td>[Comedy, Drama]</td>\n",
       "      <td>1</td>\n",
       "    </tr>\n",
       "    <tr>\n",
       "      <th>1000207</th>\n",
       "      <td>6039</td>\n",
       "      <td>152</td>\n",
       "      <td>4</td>\n",
       "      <td>956715648</td>\n",
       "      <td>Sophie's Choice (1982)</td>\n",
       "      <td>[Drama]</td>\n",
       "      <td>1</td>\n",
       "    </tr>\n",
       "    <tr>\n",
       "      <th>1000208</th>\n",
       "      <td>6039</td>\n",
       "      <td>26</td>\n",
       "      <td>4</td>\n",
       "      <td>956715569</td>\n",
       "      <td>E.T. the Extra-Terrestrial (1982)</td>\n",
       "      <td>[Children's, Drama, Fantasy, Sci-Fi]</td>\n",
       "      <td>1</td>\n",
       "    </tr>\n",
       "  </tbody>\n",
       "</table>\n",
       "<p>1000209 rows × 7 columns</p>\n",
       "</div>"
      ],
      "text/plain": [
       "         user  item  rating  timestamp  \\\n",
       "0           0     0       5  978300760   \n",
       "1           0     1       3  978302109   \n",
       "2           0     2       3  978301968   \n",
       "3           0     3       4  978300275   \n",
       "4           0     4       5  978824291   \n",
       "...       ...   ...     ...        ...   \n",
       "1000204  6039   772       1  956716541   \n",
       "1000205  6039  1106       5  956704887   \n",
       "1000206  6039   365       5  956704746   \n",
       "1000207  6039   152       4  956715648   \n",
       "1000208  6039    26       4  956715569   \n",
       "\n",
       "                                          title  \\\n",
       "0        One Flew Over the Cuckoo's Nest (1975)   \n",
       "1              James and the Giant Peach (1996)   \n",
       "2                           My Fair Lady (1964)   \n",
       "3                        Erin Brockovich (2000)   \n",
       "4                          Bug's Life, A (1998)   \n",
       "...                                         ...   \n",
       "1000204              Weekend at Bernie's (1989)   \n",
       "1000205                 Crying Game, The (1992)   \n",
       "1000206         Welcome to the Dollhouse (1995)   \n",
       "1000207                  Sophie's Choice (1982)   \n",
       "1000208       E.T. the Extra-Terrestrial (1982)   \n",
       "\n",
       "                                       genres  relevant  \n",
       "0                                     [Drama]         1  \n",
       "1            [Animation, Children's, Musical]         0  \n",
       "2                          [Musical, Romance]         0  \n",
       "3                                     [Drama]         1  \n",
       "4             [Animation, Children's, Comedy]         1  \n",
       "...                                       ...       ...  \n",
       "1000204                              [Comedy]         0  \n",
       "1000205                 [Drama, Romance, War]         1  \n",
       "1000206                       [Comedy, Drama]         1  \n",
       "1000207                               [Drama]         1  \n",
       "1000208  [Children's, Drama, Fantasy, Sci-Fi]         1  \n",
       "\n",
       "[1000209 rows x 7 columns]"
      ]
     },
     "execution_count": 6,
     "metadata": {},
     "output_type": "execute_result"
    }
   ],
   "source": [
    "df"
   ]
  },
  {
   "cell_type": "code",
   "execution_count": 7,
   "metadata": {},
   "outputs": [],
   "source": [
    "bpr_df= generate_bpr_dataset(df)"
   ]
  },
  {
   "cell_type": "code",
   "execution_count": 8,
   "metadata": {},
   "outputs": [
    {
     "data": {
      "text/html": [
       "<div>\n",
       "<style scoped>\n",
       "    .dataframe tbody tr th:only-of-type {\n",
       "        vertical-align: middle;\n",
       "    }\n",
       "\n",
       "    .dataframe tbody tr th {\n",
       "        vertical-align: top;\n",
       "    }\n",
       "\n",
       "    .dataframe thead th {\n",
       "        text-align: right;\n",
       "    }\n",
       "</style>\n",
       "<table border=\"1\" class=\"dataframe\">\n",
       "  <thead>\n",
       "    <tr style=\"text-align: right;\">\n",
       "      <th></th>\n",
       "      <th>user</th>\n",
       "      <th>pos_item</th>\n",
       "      <th>neg_item</th>\n",
       "    </tr>\n",
       "  </thead>\n",
       "  <tbody>\n",
       "    <tr>\n",
       "      <th>0</th>\n",
       "      <td>0</td>\n",
       "      <td>0</td>\n",
       "      <td>1835</td>\n",
       "    </tr>\n",
       "    <tr>\n",
       "      <th>1</th>\n",
       "      <td>0</td>\n",
       "      <td>0</td>\n",
       "      <td>3242</td>\n",
       "    </tr>\n",
       "    <tr>\n",
       "      <th>2</th>\n",
       "      <td>0</td>\n",
       "      <td>0</td>\n",
       "      <td>3349</td>\n",
       "    </tr>\n",
       "    <tr>\n",
       "      <th>3</th>\n",
       "      <td>0</td>\n",
       "      <td>1</td>\n",
       "      <td>743</td>\n",
       "    </tr>\n",
       "    <tr>\n",
       "      <th>4</th>\n",
       "      <td>0</td>\n",
       "      <td>1</td>\n",
       "      <td>321</td>\n",
       "    </tr>\n",
       "    <tr>\n",
       "      <th>...</th>\n",
       "      <td>...</td>\n",
       "      <td>...</td>\n",
       "      <td>...</td>\n",
       "    </tr>\n",
       "    <tr>\n",
       "      <th>3000622</th>\n",
       "      <td>6039</td>\n",
       "      <td>152</td>\n",
       "      <td>1002</td>\n",
       "    </tr>\n",
       "    <tr>\n",
       "      <th>3000623</th>\n",
       "      <td>6039</td>\n",
       "      <td>152</td>\n",
       "      <td>1768</td>\n",
       "    </tr>\n",
       "    <tr>\n",
       "      <th>3000624</th>\n",
       "      <td>6039</td>\n",
       "      <td>26</td>\n",
       "      <td>3233</td>\n",
       "    </tr>\n",
       "    <tr>\n",
       "      <th>3000625</th>\n",
       "      <td>6039</td>\n",
       "      <td>26</td>\n",
       "      <td>3246</td>\n",
       "    </tr>\n",
       "    <tr>\n",
       "      <th>3000626</th>\n",
       "      <td>6039</td>\n",
       "      <td>26</td>\n",
       "      <td>556</td>\n",
       "    </tr>\n",
       "  </tbody>\n",
       "</table>\n",
       "<p>3000627 rows × 3 columns</p>\n",
       "</div>"
      ],
      "text/plain": [
       "         user  pos_item  neg_item\n",
       "0           0         0      1835\n",
       "1           0         0      3242\n",
       "2           0         0      3349\n",
       "3           0         1       743\n",
       "4           0         1       321\n",
       "...       ...       ...       ...\n",
       "3000622  6039       152      1002\n",
       "3000623  6039       152      1768\n",
       "3000624  6039        26      3233\n",
       "3000625  6039        26      3246\n",
       "3000626  6039        26       556\n",
       "\n",
       "[3000627 rows x 3 columns]"
      ]
     },
     "execution_count": 8,
     "metadata": {},
     "output_type": "execute_result"
    }
   ],
   "source": [
    "bpr_df"
   ]
  },
  {
   "cell_type": "markdown",
   "metadata": {},
   "source": [
    "## Training a simple model\n",
    "\n",
    "We'll train a bpr matrix factorization model and use it to generate uncalibrated and calibrated recommendations"
   ]
  },
  {
   "cell_type": "code",
   "execution_count": 9,
   "metadata": {},
   "outputs": [],
   "source": [
    "from torch import device, cuda, tensor"
   ]
  },
  {
   "cell_type": "code",
   "execution_count": 10,
   "metadata": {},
   "outputs": [
    {
     "data": {
      "text/plain": [
       "device(type='cuda')"
      ]
     },
     "execution_count": 10,
     "metadata": {},
     "output_type": "execute_result"
    }
   ],
   "source": [
    "dev = device('cuda' if cuda.is_available() else 'cpu')\n",
    "dev"
   ]
  },
  {
   "cell_type": "code",
   "execution_count": 11,
   "metadata": {},
   "outputs": [],
   "source": [
    "data_bpr = bprMFDataloader(bpr_df)\n",
    "\n",
    "\n",
    "# Calculate split lengths\n",
    "train_len = int(0.7 * len(data_bpr))\n",
    "test_len = len(data_bpr) - train_len\n",
    "\n",
    "\n",
    "train_data, test_data = random_split(data_bpr, [train_len, test_len])\n",
    "\n",
    "\n",
    "\n",
    "dataloader_bpr_train = DataLoader(train_data, batch_size=256, shuffle=True)\n",
    "dataloader_bpr_test = DataLoader(test_data, batch_size=256, shuffle=True)\n",
    "\n",
    "\n",
    "n_users = bpr_df.user.max() + 1\n",
    "n_items = bpr_df.pos_item.max() + 1\n"
   ]
  },
  {
   "cell_type": "code",
   "execution_count": 12,
   "metadata": {},
   "outputs": [],
   "source": [
    "\n",
    "def get_top_k_recommendations_for_user(row, candidates, model, k=100):\n",
    "    candidates_t = tensor(candidates, device=dev)\n",
    "    return model.predict(\n",
    "        user=tensor(data=row[\"user\"], device=dev),\n",
    "        candidates=candidates_t,\n",
    "        k=k\n",
    "    )\n",
    "\n"
   ]
  },
  {
   "cell_type": "code",
   "execution_count": 13,
   "metadata": {},
   "outputs": [],
   "source": [
    "\n",
    "model_artifact_poath = \"artifacts/models/bpr_mf_movielens_1m.pkl\"\n",
    "if os.path.exists(model_artifact_poath):\n",
    "    with open(model_artifact_poath, \"rb\") as f:\n",
    "        model = pickle.load(f)\n",
    "else:\n",
    "    optimizer = Adam(model.parameters(), lr=1e-3)\n",
    "    train_loss, test_loss = bpr_train(\n",
    "        dataloader_bpr_train, dataloader_bpr_test, model,\n",
    "        bpr_loss_with_reg, optimizer, reg_lambda=5e-4, debug=True\n",
    "    )\n",
    "    with open(model_artifact_poath, \"wb\") as f:\n",
    "        pickle.dump(model, f)\n",
    "\n"
   ]
  },
  {
   "cell_type": "code",
   "execution_count": 14,
   "metadata": {},
   "outputs": [
    {
     "name": "stderr",
     "output_type": "stream",
     "text": [
      "/home/caio/dev/bpr-mf/bpr_mf.py:71: UserWarning: To copy construct from a tensor, it is recommended to use sourceTensor.clone().detach() or sourceTensor.clone().detach().requires_grad_(True), rather than torch.tensor(sourceTensor).\n",
      "  output = self.forward(torch.tensor(user, device=device), items_list)\n"
     ]
    }
   ],
   "source": [
    "users = pd.DataFrame({'user': df['user'].unique()})\n",
    "\n",
    "rec_df = pd.DataFrame({'user': df[\"user\"].unique()})\n",
    "candidates = df[\"item\"].unique()\n",
    "\n",
    "\n",
    "rec_df = users.copy()\n",
    "rec_df[[\"top_k_rec_id\", \"top_k_rec_score\"]] = pd.DataFrame(\n",
    "    rec_df.apply(lambda row: pd.Series(get_top_k_recommendations_for_user(row, candidates, model)), axis=1)\n",
    ")\n",
    "rec_df = rec_df.explode([\"top_k_rec_id\", \"top_k_rec_score\"])"
   ]
  },
  {
   "cell_type": "code",
   "execution_count": 15,
   "metadata": {},
   "outputs": [
    {
     "name": "stderr",
     "output_type": "stream",
     "text": [
      "/home/caio/dev/bpr-mf/bpr_mf.py:71: UserWarning: To copy construct from a tensor, it is recommended to use sourceTensor.clone().detach() or sourceTensor.clone().detach().requires_grad_(True), rather than torch.tensor(sourceTensor).\n",
      "  output = self.forward(torch.tensor(user, device=device), items_list)\n",
      "/home/caio/dev/bpr-mf/bpr_mf.py:71: UserWarning: To copy construct from a tensor, it is recommended to use sourceTensor.clone().detach() or sourceTensor.clone().detach().requires_grad_(True), rather than torch.tensor(sourceTensor).\n",
      "  output = self.forward(torch.tensor(user, device=device), items_list)\n",
      "/home/caio/dev/bpr-mf/bpr_mf.py:71: UserWarning: To copy construct from a tensor, it is recommended to use sourceTensor.clone().detach() or sourceTensor.clone().detach().requires_grad_(True), rather than torch.tensor(sourceTensor).\n",
      "  output = self.forward(torch.tensor(user, device=device), items_list)\n",
      "/home/caio/dev/bpr-mf/bpr_mf.py:71: UserWarning: To copy construct from a tensor, it is recommended to use sourceTensor.clone().detach() or sourceTensor.clone().detach().requires_grad_(True), rather than torch.tensor(sourceTensor).\n",
      "  output = self.forward(torch.tensor(user, device=device), items_list)\n",
      "/home/caio/dev/bpr-mf/bpr_mf.py:71: UserWarning: To copy construct from a tensor, it is recommended to use sourceTensor.clone().detach() or sourceTensor.clone().detach().requires_grad_(True), rather than torch.tensor(sourceTensor).\n",
      "  output = self.forward(torch.tensor(user, device=device), items_list)\n"
     ]
    },
    {
     "data": {
      "text/plain": [
       "0.1026123588473709"
      ]
     },
     "execution_count": 15,
     "metadata": {},
     "output_type": "execute_result"
    }
   ],
   "source": [
    "evaluator = Evaluate(model, test_data, df, k=20)\n",
    "evaluator.MAP_at_k()"
   ]
  },
  {
   "cell_type": "code",
   "execution_count": 16,
   "metadata": {},
   "outputs": [
    {
     "name": "stderr",
     "output_type": "stream",
     "text": [
      "/home/caio/dev/bpr-mf/bpr_mf.py:71: UserWarning: To copy construct from a tensor, it is recommended to use sourceTensor.clone().detach() or sourceTensor.clone().detach().requires_grad_(True), rather than torch.tensor(sourceTensor).\n",
      "  output = self.forward(torch.tensor(user, device=device), items_list)\n",
      "/home/caio/dev/bpr-mf/bpr_mf.py:71: UserWarning: To copy construct from a tensor, it is recommended to use sourceTensor.clone().detach() or sourceTensor.clone().detach().requires_grad_(True), rather than torch.tensor(sourceTensor).\n",
      "  output = self.forward(torch.tensor(user, device=device), items_list)\n",
      "/home/caio/dev/bpr-mf/bpr_mf.py:71: UserWarning: To copy construct from a tensor, it is recommended to use sourceTensor.clone().detach() or sourceTensor.clone().detach().requires_grad_(True), rather than torch.tensor(sourceTensor).\n",
      "  output = self.forward(torch.tensor(user, device=device), items_list)\n",
      "/home/caio/dev/bpr-mf/bpr_mf.py:71: UserWarning: To copy construct from a tensor, it is recommended to use sourceTensor.clone().detach() or sourceTensor.clone().detach().requires_grad_(True), rather than torch.tensor(sourceTensor).\n",
      "  output = self.forward(torch.tensor(user, device=device), items_list)\n",
      "/home/caio/dev/bpr-mf/bpr_mf.py:71: UserWarning: To copy construct from a tensor, it is recommended to use sourceTensor.clone().detach() or sourceTensor.clone().detach().requires_grad_(True), rather than torch.tensor(sourceTensor).\n",
      "  output = self.forward(torch.tensor(user, device=device), items_list)\n"
     ]
    }
   ],
   "source": [
    "evaluator = Evaluate(model, test_data, df, k=20)"
   ]
  },
  {
   "cell_type": "code",
   "execution_count": 17,
   "metadata": {},
   "outputs": [
    {
     "data": {
      "text/plain": [
       "0.1026123588473709"
      ]
     },
     "execution_count": 17,
     "metadata": {},
     "output_type": "execute_result"
    }
   ],
   "source": [
    "evaluator.MAP_at_k()"
   ]
  },
  {
   "cell_type": "markdown",
   "metadata": {},
   "source": [
    "## Calibrating the recommendations\n",
    "\n",
    "Finally, we'll calibrate. Our goal here is to re-order the top_k_rec column for each user so taht q(g|u) ~ p(g|u)"
   ]
  },
  {
   "cell_type": "code",
   "execution_count": 18,
   "metadata": {},
   "outputs": [],
   "source": [
    "\n",
    "from calibration import Calibration\n",
    "from calibrationIO import instantiate_calibrator"
   ]
  },
  {
   "cell_type": "code",
   "execution_count": 19,
   "metadata": {},
   "outputs": [],
   "source": [
    "READ_LOCALLY = False"
   ]
  },
  {
   "cell_type": "markdown",
   "metadata": {},
   "source": [
    "## GLEB based Calibration"
   ]
  },
  {
   "cell_type": "code",
   "execution_count": 20,
   "metadata": {},
   "outputs": [],
   "source": [
    "from constants import USER_COL, ITEM_COL, GENRE_COL\n",
    "\n",
    "from calibrationUtils import get_weight, merge_dicts, normalize_counter, get_gleb_proportion\n",
    "\n",
    "from weight_functions import recommendation_score_weigthing, recommendation_twb_weighting, get_rating_weight\n",
    "\n",
    "from functools import reduce\n",
    "\n",
    "from collections import Counter"
   ]
  },
  {
   "cell_type": "code",
   "execution_count": 25,
   "metadata": {},
   "outputs": [],
   "source": [
    "from calibrationUtils import get_gleb_distribution"
   ]
  },
  {
   "cell_type": "code",
   "execution_count": 27,
   "metadata": {},
   "outputs": [
    {
     "name": "stderr",
     "output_type": "stream",
     "text": [
      "100%|██████████| 6040/6040 [24:06<00:00,  4.18it/s]\n"
     ]
    }
   ],
   "source": [
    "calibrator_rating_gleb = instantiate_calibrator(df, 'rating', 'gleb', rec_df)"
   ]
  },
  {
   "cell_type": "code",
   "execution_count": 28,
   "metadata": {},
   "outputs": [
    {
     "name": "stderr",
     "output_type": "stream",
     "text": [
      "100%|██████████| 6040/6040 [00:19<00:00, 317.74it/s]\n"
     ]
    },
    {
     "data": {
      "text/plain": [
       "0.009004342897727677"
      ]
     },
     "execution_count": 28,
     "metadata": {},
     "output_type": "execute_result"
    }
   ],
   "source": [
    "calibrator_rating_gleb.mace()"
   ]
  },
  {
   "cell_type": "code",
   "execution_count": 29,
   "metadata": {},
   "outputs": [
    {
     "name": "stderr",
     "output_type": "stream",
     "text": [
      "100%|██████████| 6040/6040 [24:27<00:00,  4.12it/s]\n"
     ]
    }
   ],
   "source": [
    "calibrator_constant_gleb = instantiate_calibrator(df, 'constant', 'gleb', rec_df)"
   ]
  },
  {
   "cell_type": "code",
   "execution_count": 30,
   "metadata": {},
   "outputs": [
    {
     "name": "stderr",
     "output_type": "stream",
     "text": [
      "100%|██████████| 6040/6040 [00:18<00:00, 328.82it/s]\n"
     ]
    },
    {
     "data": {
      "text/plain": [
       "0.008955047942673483"
      ]
     },
     "execution_count": 30,
     "metadata": {},
     "output_type": "execute_result"
    }
   ],
   "source": [
    "calibrator_constant_gleb.mace()"
   ]
  },
  {
   "cell_type": "markdown",
   "metadata": {},
   "source": [
    "## Steck based calibration"
   ]
  },
  {
   "cell_type": "code",
   "execution_count": null,
   "metadata": {},
   "outputs": [],
   "source": [
    "\n",
    "\n",
    "calibrator_rating = instantiate_calibrator(df, 'rating', 'steck', rec_df)"
   ]
  },
  {
   "cell_type": "code",
   "execution_count": 23,
   "metadata": {},
   "outputs": [
    {
     "name": "stderr",
     "output_type": "stream",
     "text": [
      "100%|██████████| 6040/6040 [00:18<00:00, 319.90it/s]\n"
     ]
    },
    {
     "data": {
      "text/plain": [
       "0.011278087392907704"
      ]
     },
     "execution_count": 23,
     "metadata": {},
     "output_type": "execute_result"
    }
   ],
   "source": [
    "calibrator_rating.mace()"
   ]
  },
  {
   "cell_type": "code",
   "execution_count": null,
   "metadata": {},
   "outputs": [],
   "source": [
    "calibrator_constant = instantiate_calibrator(df, 'constant', 'steck', rec_df)"
   ]
  },
  {
   "cell_type": "code",
   "execution_count": 25,
   "metadata": {},
   "outputs": [
    {
     "name": "stderr",
     "output_type": "stream",
     "text": [
      "100%|██████████| 6040/6040 [00:18<00:00, 320.35it/s]\n"
     ]
    },
    {
     "data": {
      "text/plain": [
       "0.011399689517540642"
      ]
     },
     "execution_count": 25,
     "metadata": {},
     "output_type": "execute_result"
    }
   ],
   "source": [
    "calibrator_constant.mace()"
   ]
  },
  {
   "cell_type": "code",
   "execution_count": null,
   "metadata": {},
   "outputs": [],
   "source": []
  }
 ],
 "metadata": {
  "kernelspec": {
   "display_name": ".dynamicTaste",
   "language": "python",
   "name": "python3"
  },
  "language_info": {
   "codemirror_mode": {
    "name": "ipython",
    "version": 3
   },
   "file_extension": ".py",
   "mimetype": "text/x-python",
   "name": "python",
   "nbconvert_exporter": "python",
   "pygments_lexer": "ipython3",
   "version": "3.12.3"
  }
 },
 "nbformat": 4,
 "nbformat_minor": 2
}
